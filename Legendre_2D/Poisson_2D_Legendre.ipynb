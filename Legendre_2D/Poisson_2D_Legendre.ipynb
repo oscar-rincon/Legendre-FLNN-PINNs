{
 "cells": [
  {
   "cell_type": "code",
   "execution_count": 2,
   "metadata": {},
   "outputs": [],
   "source": [
    "import torch\n",
    "import matplotlib.pyplot as plt\n",
    "import torch\n",
    "from torch.optim import LBFGS\n",
    "import time\n",
    "import numpy as np\n",
    "import os\n",
    "import torch.nn as nn\n",
    "from torch.autograd import grad\n",
    "\n",
    "device = torch.device('cuda')  # Usamos CPU para este ejemplo"
   ]
  },
  {
   "cell_type": "code",
   "execution_count": 3,
   "metadata": {},
   "outputs": [],
   "source": [
    "# Definir la función legendre de forma vectorizada\n",
    "def legendre(n, x, lb, ub):\n",
    "    x = 2 * (x - lb) / (ub - lb) - 1    \n",
    "    P0 = torch.ones_like(x)\n",
    "    if n == 0:\n",
    "        return P0\n",
    "    P1 = x\n",
    "    if n == 1:\n",
    "        return P1\n",
    "    for _ in range(2, n + 1):\n",
    "        P0, P1 = P1, ((2 * _ - 1) * x * P1 - (_ - 1) * P0) / _\n",
    "    return P1\n",
    " \n",
    " \n",
    "\n",
    " \n",
    "#Evaluación de la serie de Legendre 2-D utilizando broadcasting\n",
    "def evaluate_legendre_series(coefficients, leg_x, leg_y):\n",
    "    n = int(torch.sqrt(torch.tensor(coefficients.numel()).float()))  # Convert to tensor before sqrt\n",
    "    coefficients = coefficients.view(n, n)\n",
    "    # Utilizando broadcasting para calcular la serie de Legendre\n",
    "    result = torch.sum(coefficients[:, :, None, None] * leg_x[:, None, :, :] * leg_y[None, :, :, :], dim=(0, 1))\n",
    "    return result \n",
    "\n",
    "# Function to compute derivatives\n",
    "def derivative(dy: torch.Tensor, x: torch.Tensor, order: int = 1) -> torch.Tensor:\n",
    "    for i in range(order):\n",
    "        dy = torch.autograd.grad(\n",
    "            dy, x, grad_outputs=torch.ones_like(dy), create_graph=True, retain_graph=True\n",
    "        )[0]\n",
    "    return dy"
   ]
  },
  {
   "cell_type": "code",
   "execution_count": 4,
   "metadata": {},
   "outputs": [
    {
     "name": "stderr",
     "output_type": "stream",
     "text": [
      "/home/oscar-rincon/miniconda3/envs/ReScience-PINNs-env/lib/python3.12/site-packages/torch/functional.py:512: UserWarning: torch.meshgrid: in an upcoming release, it will be required to pass the indexing argument. (Triggered internally at /home/conda/feedstock_root/build_artifacts/libtorch_1716578970623/work/aten/src/ATen/native/TensorShape.cpp:3587.)\n",
      "  return _VF.meshgrid(tensors, **kwargs)  # type: ignore[attr-defined]\n"
     ]
    },
    {
     "name": "stdout",
     "output_type": "stream",
     "text": [
      "Tiempo de precomputación de Legendre polynomials: 0.5486 segundos\n"
     ]
    }
   ],
   "source": [
    "# Precomputar leg_x y leg_y una vez\n",
    "start_precompute = time.time()\n",
    "\n",
    "# Elige una suposición inicial para los coeficientes\n",
    "N = 50  # Grado máximo de los polinomios de Legendre\n",
    "initial_guess = torch.zeros(N*N, requires_grad=True, dtype=torch.float64, device=device)  # Suposición inicial para los coeficientes\n",
    "lb, ub = 0, 1  # Límites de integración\n",
    "# Datos de entrada para la función y los polinomios de Legendre\n",
    "X1, X2 = torch.meshgrid(torch.linspace(0, 1, 100, dtype=torch.float64, device=device), torch.linspace(0, 1, 100, dtype=torch.float64, device=device))\n",
    "# Make X1 and X2 require gradients\n",
    "X1.requires_grad_()\n",
    "X2.requires_grad_()\n",
    "n = int(torch.sqrt(torch.tensor(initial_guess.numel(), device=device)))\n",
    "leg_x = torch.stack([legendre(i, X1, lb, ub).to(device).double() for i in range(n)], dim=0)\n",
    "leg_y = torch.stack([legendre(j, X2, lb, ub).to(device).double() for j in range(n)], dim=0)\n",
    "\n",
    "end_precompute = time.time()\n",
    "time_precompute = end_precompute - start_precompute\n",
    "print(f\"Tiempo de precomputación de Legendre polynomials: {time_precompute:.4f} segundos\")"
   ]
  },
  {
   "cell_type": "code",
   "execution_count": 5,
   "metadata": {},
   "outputs": [
    {
     "name": "stdout",
     "output_type": "stream",
     "text": [
      "Tiempo de precomputación de Legendre polynomials: 0.2525 segundos\n",
      "Loss: 123.32942209909866\n",
      "Loss: 1914.712837244726\n",
      "Loss: 121.90145315504584\n"
     ]
    },
    {
     "ename": "KeyboardInterrupt",
     "evalue": "",
     "output_type": "error",
     "traceback": [
      "\u001b[0;31m---------------------------------------------------------------------------\u001b[0m",
      "\u001b[0;31mKeyboardInterrupt\u001b[0m                         Traceback (most recent call last)",
      "Cell \u001b[0;32mIn[5], line 76\u001b[0m\n\u001b[1;32m     74\u001b[0m \u001b[38;5;66;03m# Realizar pasos de optimización\u001b[39;00m\n\u001b[1;32m     75\u001b[0m start_optimization \u001b[38;5;241m=\u001b[39m time\u001b[38;5;241m.\u001b[39mtime()\n\u001b[0;32m---> 76\u001b[0m \u001b[43moptimizer\u001b[49m\u001b[38;5;241;43m.\u001b[39;49m\u001b[43mstep\u001b[49m\u001b[43m(\u001b[49m\u001b[43mclosure\u001b[49m\u001b[43m)\u001b[49m\n\u001b[1;32m     77\u001b[0m end_optimization \u001b[38;5;241m=\u001b[39m time\u001b[38;5;241m.\u001b[39mtime()\n\u001b[1;32m     79\u001b[0m \u001b[38;5;66;03m# Coeficientes óptimos encontrados\u001b[39;00m\n",
      "File \u001b[0;32m~/miniconda3/envs/ReScience-PINNs-env/lib/python3.12/site-packages/torch/optim/optimizer.py:391\u001b[0m, in \u001b[0;36mOptimizer.profile_hook_step.<locals>.wrapper\u001b[0;34m(*args, **kwargs)\u001b[0m\n\u001b[1;32m    386\u001b[0m         \u001b[38;5;28;01melse\u001b[39;00m:\n\u001b[1;32m    387\u001b[0m             \u001b[38;5;28;01mraise\u001b[39;00m \u001b[38;5;167;01mRuntimeError\u001b[39;00m(\n\u001b[1;32m    388\u001b[0m                 \u001b[38;5;124mf\u001b[39m\u001b[38;5;124m\"\u001b[39m\u001b[38;5;132;01m{\u001b[39;00mfunc\u001b[38;5;132;01m}\u001b[39;00m\u001b[38;5;124m must return None or a tuple of (new_args, new_kwargs), but got \u001b[39m\u001b[38;5;132;01m{\u001b[39;00mresult\u001b[38;5;132;01m}\u001b[39;00m\u001b[38;5;124m.\u001b[39m\u001b[38;5;124m\"\u001b[39m\n\u001b[1;32m    389\u001b[0m             )\n\u001b[0;32m--> 391\u001b[0m out \u001b[38;5;241m=\u001b[39m \u001b[43mfunc\u001b[49m\u001b[43m(\u001b[49m\u001b[38;5;241;43m*\u001b[39;49m\u001b[43margs\u001b[49m\u001b[43m,\u001b[49m\u001b[43m \u001b[49m\u001b[38;5;241;43m*\u001b[39;49m\u001b[38;5;241;43m*\u001b[39;49m\u001b[43mkwargs\u001b[49m\u001b[43m)\u001b[49m\n\u001b[1;32m    392\u001b[0m \u001b[38;5;28mself\u001b[39m\u001b[38;5;241m.\u001b[39m_optimizer_step_code()\n\u001b[1;32m    394\u001b[0m \u001b[38;5;66;03m# call optimizer step post hooks\u001b[39;00m\n",
      "File \u001b[0;32m~/miniconda3/envs/ReScience-PINNs-env/lib/python3.12/site-packages/torch/utils/_contextlib.py:115\u001b[0m, in \u001b[0;36mcontext_decorator.<locals>.decorate_context\u001b[0;34m(*args, **kwargs)\u001b[0m\n\u001b[1;32m    112\u001b[0m \u001b[38;5;129m@functools\u001b[39m\u001b[38;5;241m.\u001b[39mwraps(func)\n\u001b[1;32m    113\u001b[0m \u001b[38;5;28;01mdef\u001b[39;00m \u001b[38;5;21mdecorate_context\u001b[39m(\u001b[38;5;241m*\u001b[39margs, \u001b[38;5;241m*\u001b[39m\u001b[38;5;241m*\u001b[39mkwargs):\n\u001b[1;32m    114\u001b[0m     \u001b[38;5;28;01mwith\u001b[39;00m ctx_factory():\n\u001b[0;32m--> 115\u001b[0m         \u001b[38;5;28;01mreturn\u001b[39;00m \u001b[43mfunc\u001b[49m\u001b[43m(\u001b[49m\u001b[38;5;241;43m*\u001b[39;49m\u001b[43margs\u001b[49m\u001b[43m,\u001b[49m\u001b[43m \u001b[49m\u001b[38;5;241;43m*\u001b[39;49m\u001b[38;5;241;43m*\u001b[39;49m\u001b[43mkwargs\u001b[49m\u001b[43m)\u001b[49m\n",
      "File \u001b[0;32m~/miniconda3/envs/ReScience-PINNs-env/lib/python3.12/site-packages/torch/optim/lbfgs.py:445\u001b[0m, in \u001b[0;36mLBFGS.step\u001b[0;34m(self, closure)\u001b[0m\n\u001b[1;32m    440\u001b[0m \u001b[38;5;28;01mif\u001b[39;00m n_iter \u001b[38;5;241m!=\u001b[39m max_iter:\n\u001b[1;32m    441\u001b[0m     \u001b[38;5;66;03m# re-evaluate function only if not in last iteration\u001b[39;00m\n\u001b[1;32m    442\u001b[0m     \u001b[38;5;66;03m# the reason we do this: in a stochastic setting,\u001b[39;00m\n\u001b[1;32m    443\u001b[0m     \u001b[38;5;66;03m# no use to re-evaluate that function here\u001b[39;00m\n\u001b[1;32m    444\u001b[0m     \u001b[38;5;28;01mwith\u001b[39;00m torch\u001b[38;5;241m.\u001b[39menable_grad():\n\u001b[0;32m--> 445\u001b[0m         loss \u001b[38;5;241m=\u001b[39m \u001b[38;5;28mfloat\u001b[39m(\u001b[43mclosure\u001b[49m\u001b[43m(\u001b[49m\u001b[43m)\u001b[49m)\n\u001b[1;32m    446\u001b[0m     flat_grad \u001b[38;5;241m=\u001b[39m \u001b[38;5;28mself\u001b[39m\u001b[38;5;241m.\u001b[39m_gather_flat_grad()\n\u001b[1;32m    447\u001b[0m     opt_cond \u001b[38;5;241m=\u001b[39m flat_grad\u001b[38;5;241m.\u001b[39mabs()\u001b[38;5;241m.\u001b[39mmax() \u001b[38;5;241m<\u001b[39m\u001b[38;5;241m=\u001b[39m tolerance_grad\n",
      "File \u001b[0;32m~/miniconda3/envs/ReScience-PINNs-env/lib/python3.12/site-packages/torch/utils/_contextlib.py:115\u001b[0m, in \u001b[0;36mcontext_decorator.<locals>.decorate_context\u001b[0;34m(*args, **kwargs)\u001b[0m\n\u001b[1;32m    112\u001b[0m \u001b[38;5;129m@functools\u001b[39m\u001b[38;5;241m.\u001b[39mwraps(func)\n\u001b[1;32m    113\u001b[0m \u001b[38;5;28;01mdef\u001b[39;00m \u001b[38;5;21mdecorate_context\u001b[39m(\u001b[38;5;241m*\u001b[39margs, \u001b[38;5;241m*\u001b[39m\u001b[38;5;241m*\u001b[39mkwargs):\n\u001b[1;32m    114\u001b[0m     \u001b[38;5;28;01mwith\u001b[39;00m ctx_factory():\n\u001b[0;32m--> 115\u001b[0m         \u001b[38;5;28;01mreturn\u001b[39;00m \u001b[43mfunc\u001b[49m\u001b[43m(\u001b[49m\u001b[38;5;241;43m*\u001b[39;49m\u001b[43margs\u001b[49m\u001b[43m,\u001b[49m\u001b[43m \u001b[49m\u001b[38;5;241;43m*\u001b[39;49m\u001b[38;5;241;43m*\u001b[39;49m\u001b[43mkwargs\u001b[49m\u001b[43m)\u001b[49m\n",
      "Cell \u001b[0;32mIn[5], line 71\u001b[0m, in \u001b[0;36mclosure\u001b[0;34m()\u001b[0m\n\u001b[1;32m     69\u001b[0m loss \u001b[38;5;241m=\u001b[39m error_function(initial_guess, leg_x, leg_y)\n\u001b[1;32m     70\u001b[0m \u001b[38;5;28mprint\u001b[39m(\u001b[38;5;124mf\u001b[39m\u001b[38;5;124m\"\u001b[39m\u001b[38;5;124mLoss: \u001b[39m\u001b[38;5;132;01m{\u001b[39;00mloss\u001b[38;5;241m.\u001b[39mitem()\u001b[38;5;132;01m}\u001b[39;00m\u001b[38;5;124m\"\u001b[39m)\n\u001b[0;32m---> 71\u001b[0m \u001b[43mloss\u001b[49m\u001b[38;5;241;43m.\u001b[39;49m\u001b[43mbackward\u001b[49m\u001b[43m(\u001b[49m\u001b[43mretain_graph\u001b[49m\u001b[38;5;241;43m=\u001b[39;49m\u001b[38;5;28;43;01mTrue\u001b[39;49;00m\u001b[43m)\u001b[49m\n\u001b[1;32m     72\u001b[0m \u001b[38;5;28;01mreturn\u001b[39;00m loss\n",
      "File \u001b[0;32m~/miniconda3/envs/ReScience-PINNs-env/lib/python3.12/site-packages/torch/_tensor.py:525\u001b[0m, in \u001b[0;36mTensor.backward\u001b[0;34m(self, gradient, retain_graph, create_graph, inputs)\u001b[0m\n\u001b[1;32m    515\u001b[0m \u001b[38;5;28;01mif\u001b[39;00m has_torch_function_unary(\u001b[38;5;28mself\u001b[39m):\n\u001b[1;32m    516\u001b[0m     \u001b[38;5;28;01mreturn\u001b[39;00m handle_torch_function(\n\u001b[1;32m    517\u001b[0m         Tensor\u001b[38;5;241m.\u001b[39mbackward,\n\u001b[1;32m    518\u001b[0m         (\u001b[38;5;28mself\u001b[39m,),\n\u001b[0;32m   (...)\u001b[0m\n\u001b[1;32m    523\u001b[0m         inputs\u001b[38;5;241m=\u001b[39minputs,\n\u001b[1;32m    524\u001b[0m     )\n\u001b[0;32m--> 525\u001b[0m \u001b[43mtorch\u001b[49m\u001b[38;5;241;43m.\u001b[39;49m\u001b[43mautograd\u001b[49m\u001b[38;5;241;43m.\u001b[39;49m\u001b[43mbackward\u001b[49m\u001b[43m(\u001b[49m\n\u001b[1;32m    526\u001b[0m \u001b[43m    \u001b[49m\u001b[38;5;28;43mself\u001b[39;49m\u001b[43m,\u001b[49m\u001b[43m \u001b[49m\u001b[43mgradient\u001b[49m\u001b[43m,\u001b[49m\u001b[43m \u001b[49m\u001b[43mretain_graph\u001b[49m\u001b[43m,\u001b[49m\u001b[43m \u001b[49m\u001b[43mcreate_graph\u001b[49m\u001b[43m,\u001b[49m\u001b[43m \u001b[49m\u001b[43minputs\u001b[49m\u001b[38;5;241;43m=\u001b[39;49m\u001b[43minputs\u001b[49m\n\u001b[1;32m    527\u001b[0m \u001b[43m\u001b[49m\u001b[43m)\u001b[49m\n",
      "File \u001b[0;32m~/miniconda3/envs/ReScience-PINNs-env/lib/python3.12/site-packages/torch/autograd/__init__.py:267\u001b[0m, in \u001b[0;36mbackward\u001b[0;34m(tensors, grad_tensors, retain_graph, create_graph, grad_variables, inputs)\u001b[0m\n\u001b[1;32m    262\u001b[0m     retain_graph \u001b[38;5;241m=\u001b[39m create_graph\n\u001b[1;32m    264\u001b[0m \u001b[38;5;66;03m# The reason we repeat the same comment below is that\u001b[39;00m\n\u001b[1;32m    265\u001b[0m \u001b[38;5;66;03m# some Python versions print out the first line of a multi-line function\u001b[39;00m\n\u001b[1;32m    266\u001b[0m \u001b[38;5;66;03m# calls in the traceback and some print out the last line\u001b[39;00m\n\u001b[0;32m--> 267\u001b[0m \u001b[43m_engine_run_backward\u001b[49m\u001b[43m(\u001b[49m\n\u001b[1;32m    268\u001b[0m \u001b[43m    \u001b[49m\u001b[43mtensors\u001b[49m\u001b[43m,\u001b[49m\n\u001b[1;32m    269\u001b[0m \u001b[43m    \u001b[49m\u001b[43mgrad_tensors_\u001b[49m\u001b[43m,\u001b[49m\n\u001b[1;32m    270\u001b[0m \u001b[43m    \u001b[49m\u001b[43mretain_graph\u001b[49m\u001b[43m,\u001b[49m\n\u001b[1;32m    271\u001b[0m \u001b[43m    \u001b[49m\u001b[43mcreate_graph\u001b[49m\u001b[43m,\u001b[49m\n\u001b[1;32m    272\u001b[0m \u001b[43m    \u001b[49m\u001b[43minputs\u001b[49m\u001b[43m,\u001b[49m\n\u001b[1;32m    273\u001b[0m \u001b[43m    \u001b[49m\u001b[43mallow_unreachable\u001b[49m\u001b[38;5;241;43m=\u001b[39;49m\u001b[38;5;28;43;01mTrue\u001b[39;49;00m\u001b[43m,\u001b[49m\n\u001b[1;32m    274\u001b[0m \u001b[43m    \u001b[49m\u001b[43maccumulate_grad\u001b[49m\u001b[38;5;241;43m=\u001b[39;49m\u001b[38;5;28;43;01mTrue\u001b[39;49;00m\u001b[43m,\u001b[49m\n\u001b[1;32m    275\u001b[0m \u001b[43m\u001b[49m\u001b[43m)\u001b[49m\n",
      "File \u001b[0;32m~/miniconda3/envs/ReScience-PINNs-env/lib/python3.12/site-packages/torch/autograd/graph.py:744\u001b[0m, in \u001b[0;36m_engine_run_backward\u001b[0;34m(t_outputs, *args, **kwargs)\u001b[0m\n\u001b[1;32m    742\u001b[0m     unregister_hooks \u001b[38;5;241m=\u001b[39m _register_logging_hooks_on_whole_graph(t_outputs)\n\u001b[1;32m    743\u001b[0m \u001b[38;5;28;01mtry\u001b[39;00m:\n\u001b[0;32m--> 744\u001b[0m     \u001b[38;5;28;01mreturn\u001b[39;00m \u001b[43mVariable\u001b[49m\u001b[38;5;241;43m.\u001b[39;49m\u001b[43m_execution_engine\u001b[49m\u001b[38;5;241;43m.\u001b[39;49m\u001b[43mrun_backward\u001b[49m\u001b[43m(\u001b[49m\u001b[43m  \u001b[49m\u001b[38;5;66;43;03m# Calls into the C++ engine to run the backward pass\u001b[39;49;00m\n\u001b[1;32m    745\u001b[0m \u001b[43m        \u001b[49m\u001b[43mt_outputs\u001b[49m\u001b[43m,\u001b[49m\u001b[43m \u001b[49m\u001b[38;5;241;43m*\u001b[39;49m\u001b[43margs\u001b[49m\u001b[43m,\u001b[49m\u001b[43m \u001b[49m\u001b[38;5;241;43m*\u001b[39;49m\u001b[38;5;241;43m*\u001b[39;49m\u001b[43mkwargs\u001b[49m\n\u001b[1;32m    746\u001b[0m \u001b[43m    \u001b[49m\u001b[43m)\u001b[49m  \u001b[38;5;66;03m# Calls into the C++ engine to run the backward pass\u001b[39;00m\n\u001b[1;32m    747\u001b[0m \u001b[38;5;28;01mfinally\u001b[39;00m:\n\u001b[1;32m    748\u001b[0m     \u001b[38;5;28;01mif\u001b[39;00m attach_logging_hooks:\n",
      "\u001b[0;31mKeyboardInterrupt\u001b[0m: "
     ]
    }
   ],
   "source": [
    "# Definir la función legendre de forma vectorizada\n",
    "def legendre(n, x, lb, ub):\n",
    "    x = 2 * (x - lb) / (ub - lb) - 1    \n",
    "    P0 = torch.ones_like(x)\n",
    "    if n == 0:\n",
    "        return P0\n",
    "    P1 = x\n",
    "    if n == 1:\n",
    "        return P1\n",
    "    for _ in range(2, n + 1):\n",
    "        P0, P1 = P1, ((2 * _ - 1) * x * P1 - (_ - 1) * P0) / _\n",
    "    return P1\n",
    " \n",
    " \n",
    "\n",
    " \n",
    "#Evaluación de la serie de Legendre 2-D utilizando broadcasting\n",
    "def evaluate_legendre_series(coefficients, leg_x, leg_y):\n",
    "    n = int(torch.sqrt(torch.tensor(coefficients.numel()).float()))  # Convert to tensor before sqrt\n",
    "    coefficients = coefficients.view(n, n)\n",
    "    # Utilizando broadcasting para calcular la serie de Legendre\n",
    "    result = torch.sum(coefficients[:, :, None, None] * leg_x[:, None, :, :] * leg_y[None, :, :, :], dim=(0, 1))\n",
    "    return result \n",
    " \n",
    "# Precomputar leg_x y leg_y una vez\n",
    "start_precompute = time.time()\n",
    "\n",
    "# Elige una suposición inicial para los coeficientes\n",
    "N = 50  # Grado máximo de los polinomios de Legendre\n",
    "initial_guess = torch.zeros(N*N, requires_grad=True, dtype=torch.float64, device=device)  # Suposición inicial para los coeficientes\n",
    "lb, ub = 0, 1  # Límites de integración\n",
    "# Datos de entrada para la función y los polinomios de Legendre\n",
    "x1,x2 = torch.linspace(0, 1, 100, dtype=torch.float64, device=device).requires_grad_(), torch.linspace(0, 1, 100, dtype=torch.float64, device=device).requires_grad_()\n",
    "X1, X2 = torch.meshgrid(x1,x2)\n",
    "n = int(torch.sqrt(torch.tensor(initial_guess.numel(), device=device)))\n",
    "leg_x = torch.stack([legendre(i, X1, lb, ub).to(device).double() for i in range(n)], dim=0)\n",
    "leg_y = torch.stack([legendre(j, X2, lb, ub).to(device).double() for j in range(n)], dim=0)\n",
    "\n",
    "end_precompute = time.time()\n",
    "time_precompute = end_precompute - start_precompute\n",
    "print(f\"Tiempo de precomputación de Legendre polynomials: {time_precompute:.4f} segundos\") \n",
    " \n",
    " \n",
    "criterion = nn.MSELoss()\n",
    "# Define la función de error\n",
    "# Definir la función de error\n",
    "def error_function(coefficients, leg_x, leg_y):\n",
    "    N_xy_p = evaluate_legendre_series(coefficients, leg_x, leg_y)\n",
    "    u_t = x1 * x2 * (x1 - 1) * (x2 - 1) * N_xy_p\n",
    "    u_xx = derivative(u_t, x1, order=2) \n",
    "    u_yy = derivative(u_t, x2, order=2)\n",
    "    residuo = u_xx + u_yy +  32 * ((1 - X2) * X2 + (1 - X1) * X1) \n",
    "    loss = torch.mean(residuo**2)\n",
    "    return loss\n",
    "\n",
    "# Usar una función de optimización para minimizar la función de error con respecto a los coeficientes\n",
    " \n",
    "optimizer = torch.optim.LBFGS([initial_guess],\n",
    "                                lr=1,\n",
    "                                max_iter=10_000,\n",
    "                                max_eval=10_000,\n",
    "                                tolerance_grad=1e-6,\n",
    "                                history_size=50,\n",
    "                                tolerance_change=1.0 * np.finfo(float).eps,\n",
    "                                line_search_fn=None)\n",
    "\n",
    "def closure():\n",
    "    optimizer.zero_grad()\n",
    "    loss = error_function(initial_guess, leg_x, leg_y)\n",
    "    print(f\"Loss: {loss.item()}\")\n",
    "    loss.backward(retain_graph=True)\n",
    "    return loss\n",
    "\n",
    "# Realizar pasos de optimización\n",
    "start_optimization = time.time()\n",
    "optimizer.step(closure)\n",
    "end_optimization = time.time()\n",
    "\n",
    "# Coeficientes óptimos encontrados\n",
    "optimal_coefficients = initial_guess.detach()\n",
    "\n",
    "# Evaluar la aproximación de la serie de Legendre\n",
    "start_evaluation = time.time()\n",
    "approximation = evaluate_legendre_series(optimal_coefficients, leg_x, leg_y)\n",
    "end_evaluation = time.time()\n",
    "\n",
    "# Medir el tiempo de optimización y evaluación\n",
    "time_optimization = end_optimization - start_optimization\n",
    "time_evaluation = end_evaluation - start_evaluation\n",
    "\n",
    "print(f\"Tiempo de optimización: {time_optimization:.4f} segundos\")\n",
    "print(f\"Tiempo de evaluación: {time_evaluation:.4f} segundos\")\n",
    "\n",
    "# Graficar el resultado usando contourf\n",
    "plt.figure(figsize=(8, 6))\n",
    "plt.contourf(X1.cpu().numpy(), X2.cpu().numpy(), approximation.cpu().numpy(), cmap='viridis')\n",
    "plt.colorbar(label='Approximation')\n",
    "plt.title('Approximation of f(x1, x2) using Legendre Series')\n",
    "plt.xlabel('x1')\n",
    "plt.ylabel('x2')\n",
    "plt.show()"
   ]
  },
  {
   "cell_type": "code",
   "execution_count": null,
   "metadata": {},
   "outputs": [
    {
     "name": "stdout",
     "output_type": "stream",
     "text": [
      "Error en la predicción: 9.475960452509686e-09\n"
     ]
    }
   ],
   "source": [
    "# Calcular el error en la predicción\n",
    "prediction_error = error_function(optimal_coefficients, leg_x, leg_y)\n",
    "\n",
    "print(f\"Error en la predicción: {prediction_error.item()}\")"
   ]
  }
 ],
 "metadata": {
  "kernelspec": {
   "display_name": "ReScience-PINNs-env",
   "language": "python",
   "name": "python3"
  },
  "language_info": {
   "codemirror_mode": {
    "name": "ipython",
    "version": 3
   },
   "file_extension": ".py",
   "mimetype": "text/x-python",
   "name": "python",
   "nbconvert_exporter": "python",
   "pygments_lexer": "ipython3",
   "version": "3.12.3"
  }
 },
 "nbformat": 4,
 "nbformat_minor": 2
}
