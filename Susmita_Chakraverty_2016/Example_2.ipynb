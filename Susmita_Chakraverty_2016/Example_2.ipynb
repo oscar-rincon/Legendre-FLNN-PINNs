{
 "cells": [
  {
   "cell_type": "code",
   "execution_count": 1,
   "metadata": {},
   "outputs": [],
   "source": [
    "import torch\n",
    "import torch.nn as nn\n",
    "import numpy as np\n",
    "import matplotlib.pyplot as plt\n",
    "import time\n",
    "device = torch.device('cpu')  # Usamos CPU para este ejemplo"
   ]
  },
  {
   "cell_type": "markdown",
   "metadata": {},
   "source": [
    "## Funciones a utilizar"
   ]
  },
  {
   "cell_type": "code",
   "execution_count": 2,
   "metadata": {},
   "outputs": [],
   "source": [
    "# Function to compute derivatives\n",
    "def derivative(dy: torch.Tensor, x: torch.Tensor, order: int = 1) -> torch.Tensor:\n",
    "    for i in range(order):\n",
    "        dy = torch.autograd.grad(\n",
    "            dy, x, grad_outputs=torch.ones_like(dy), create_graph=True, retain_graph=True\n",
    "        )[0]\n",
    "    return dy"
   ]
  },
  {
   "cell_type": "code",
   "execution_count": 3,
   "metadata": {},
   "outputs": [],
   "source": [
    "def Legendre(x: torch.Tensor, n: int) -> torch.Tensor:\n",
    "\n",
    "    # Inicializa los dos primeros polinomios de Legendre\n",
    "    legendre_polynomials = [torch.ones_like(x), x]\n",
    "\n",
    "    # Calcula los polinomios de Legendre hasta el grado n\n",
    "    for _ in range(2, n):\n",
    "        # Coeficientes para la relación de recurrencia de los polinomios de Legendre\n",
    "        a = (2 * _ - 1) / _\n",
    "        b = (_ - 1) / _\n",
    "\n",
    "        # Calcula el polinomio de Legendre de grado i usando la relación de recurrencia\n",
    "        legendre_polynomial = a * x * legendre_polynomials[-1] - b * legendre_polynomials[-2]\n",
    "\n",
    "        # Añade el polinomio de Legendre de grado i a la lista\n",
    "        legendre_polynomials.append(legendre_polynomial)\n",
    "\n",
    "    # Devuelve los polinomios de Legendre como un tensor de PyTorch\n",
    "    return torch.stack(legendre_polynomials, dim=1)\n",
    "\n",
    "class OrthogonalNeuralNetwork(nn.Module):\n",
    "    \n",
    "    def __init__(self, n: int, lb: float, ub: float):\n",
    "        super(OrthogonalNeuralNetwork, self).__init__()\n",
    "        self.n = n\n",
    "        self.lb = lb\n",
    "        self.ub = ub\n",
    "        \n",
    "        # Inicializa los coeficientes como parámetros del modelo que se aprenderán durante el entrenamiento\n",
    "        self.weights = torch.nn.Parameter(torch.zeros(n, dtype=torch.float64))\n",
    "        \n",
    "    def forward(self, x: torch.Tensor) -> torch.Tensor:\n",
    "        # Normaliza la entrada\n",
    "        x = 2 * (x - self.lb) / (self.ub - self.lb) - 1\n",
    "\n",
    "        # Calcula los polinomios de Legendre hasta el grado especificado\n",
    "        legendre_polynomials = Legendre(x, self.n)\n",
    "\n",
    "        # Realiza una combinación lineal de los polinomios de Legendre seleccionados utilizando los coeficientes aprendidos\n",
    "        return torch.matmul(legendre_polynomials, self.weights) "
   ]
  },
  {
   "cell_type": "code",
   "execution_count": 4,
   "metadata": {},
   "outputs": [
    {
     "name": "stdout",
     "output_type": "stream",
     "text": [
      "El modelo tiene 5 parámetros.\n",
      "Final loss: 8.715186685362638e-09\n",
      "Tiempo de entrenamiento: 0.4304664134979248 segundos\n"
     ]
    }
   ],
   "source": [
    "lb = 1  \n",
    "ub = 2\n",
    "x = torch.linspace(lb, ub, 10, dtype=torch.float64, requires_grad=True).to(device)\n",
    "model = OrthogonalNeuralNetwork(5, lb, ub).to(device)\n",
    "num_params = sum(p.numel() for p in model.parameters() if p.requires_grad)\n",
    "print(f'El modelo tiene {num_params} parámetros.')\n",
    "\n",
    "# Definir la función de pérdida y el optimizador\n",
    "criterion = nn.MSELoss()\n",
    "optimizer = torch.optim.LBFGS(model.parameters(),\n",
    "                                lr=0.1,\n",
    "                                max_iter=10_000,\n",
    "                                max_eval=10_000,\n",
    "                                tolerance_grad=1e-6,\n",
    "                                history_size=50,\n",
    "                                tolerance_change=1.0 * np.finfo(float).eps,\n",
    "                                line_search_fn=None)\n",
    " \n",
    "\n",
    "# Definir la función de cierre\n",
    "iter_count=0\n",
    "def closure():\n",
    "    global iter_count\n",
    "    iter_count+=1\n",
    "    optimizer.zero_grad()\n",
    "    y_pred = model(x) \n",
    "    y_t = 2/3 + x/3 + (x-1)*(x-2)*y_pred  \n",
    "    y_xx = derivative(y_t, x, order=2)\n",
    "    residuo = ((y_t**3 - 2*y_t**2)/(2*x**2)) - y_xx  \n",
    "    loss = criterion(residuo,torch.zeros_like(residuo))\n",
    "    #if iter_count % 100 == 0: \n",
    "    #    print(f'iter {iter_count}, loss: {loss.detach().numpy()}')\n",
    "    loss.backward(retain_graph=True)\n",
    "    return loss\n",
    "\n",
    "# Función para entrenar el modelo\n",
    "def train_model():\n",
    "    start_time = time.time()\n",
    "    #for epoch in range(epochs):\n",
    "    optimizer.step(closure)\n",
    "    end_time = time.time()\n",
    "    y_pred = model(x) \n",
    "    y_t = 2/3 + x/3 + (x-1)*(x-2)*y_pred  \n",
    "    y_xx = derivative(y_t, x, order=2)\n",
    "    residuo = ((y_t**3 - 2*y_t**2)/(2*x**2)) - y_xx  \n",
    "    loss = criterion(residuo,torch.zeros_like(residuo))    \n",
    "    print(f'Final loss: {loss.detach().numpy()}')\n",
    "    print(f'Tiempo de entrenamiento: {end_time - start_time} segundos')\n",
    "\n",
    "# Entrenar el modelo\n",
    "train_model()"
   ]
  },
  {
   "cell_type": "code",
   "execution_count": 5,
   "metadata": {},
   "outputs": [
    {
     "data": {
      "image/png": "[encoded data removed]",
      "text/plain": [
       "<Figure size 600x300 with 1 Axes>"
      ]
     },
     "metadata": {},
     "output_type": "display_data"
    }
   ],
   "source": [
    "x = torch.linspace(lb, ub, 20, dtype=torch.float64, requires_grad=True).to(device)\n",
    "with torch.no_grad():\n",
    "    y_pred = model(x)\n",
    "y_pred = 2/3 + x/3 + (x-1)*(x-2)*y_pred  \n",
    "# Convertir tensores a numpy para visualización\n",
    "x = x.cpu().detach().numpy()\n",
    "y_pred = y_pred.cpu().detach().numpy()\n",
    "\n",
    "# Graficar los resultados\n",
    "plt.figure(figsize=(6, 3))\n",
    "plt.plot(x, y_pred)\n",
    "plt.xlabel('x')\n",
    "plt.ylabel('y')\n",
    "plt.grid(False)\n",
    "plt.show()"
   ]
  },
  {
   "cell_type": "code",
   "execution_count": 6,
   "metadata": {},
   "outputs": [
    {
     "name": "stdout",
     "output_type": "stream",
     "text": [
      "1.0619\n"
     ]
    }
   ],
   "source": [
    "# Define input x with double precision\n",
    "x = torch.tensor([1.1320], dtype=torch.float64)\n",
    "\n",
    "# Ensure prediction y_pred also uses double precision\n",
    "with torch.no_grad():\n",
    "    y_pred = model(x)\n",
    "\n",
    "# Perform the computation with double precision\n",
    "y_pred = 2/3 + x/3 + (x-1)*(x-2)*y_pred\n",
    "\n",
    "# Print the result\n",
    "print(np.round(y_pred.item(), 4))"
   ]
  }
 ],
 "metadata": {
  "kernelspec": {
   "display_name": "ReScience-PINNs-env",
   "language": "python",
   "name": "python3"
  },
  "language_info": {
   "codemirror_mode": {
    "name": "ipython",
    "version": 3
   },
   "file_extension": ".py",
   "mimetype": "text/x-python",
   "name": "python",
   "nbconvert_exporter": "python",
   "pygments_lexer": "ipython3",
   "version": "3.12.3"
  }
 },
 "nbformat": 4,
 "nbformat_minor": 2
}
