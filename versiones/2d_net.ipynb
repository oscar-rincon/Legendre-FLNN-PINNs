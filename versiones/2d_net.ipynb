{
 "cells": [
  {
   "cell_type": "code",
   "execution_count": 2,
   "metadata": {},
   "outputs": [],
   "source": [
    "import torch\n",
    "import torch.nn as nn\n",
    "import numpy as np\n",
    "import matplotlib.pyplot as plt\n",
    "import torch.optim as optim\n",
    "import time\n",
    "from numpy.polynomial import legendre as leg"
   ]
  },
  {
   "cell_type": "code",
   "execution_count": null,
   "metadata": {},
   "outputs": [],
   "source": [
    "def calculate_first_n_legendre_polynomials(x: torch.Tensor, n: int) -> torch.Tensor:\n",
    "    \"\"\"\n",
    "    Calcula los primeros n polinomios de Legendre en los puntos especificados.\n",
    "\n",
    "    Entradas:\n",
    "    x (torch.Tensor): Un tensor de PyTorch que contiene los puntos en los que se evaluarán los polinomios de Legendre.\n",
    "    n (int): El grado del polinomio de Legendre más alto que se calculará.\n",
    "\n",
    "    Salidas:\n",
    "    (torch.Tensor): Un tensor de PyTorch que contiene los valores de los primeros n polinomios de Legendre en los puntos especificados.\n",
    "    \"\"\"\n",
    "\n",
    "    # Inicializa los dos primeros polinomios de Legendre\n",
    "    legendre_polynomials = [torch.ones_like(x), x]\n",
    "\n",
    "    # Calcula los polinomios de Legendre hasta el grado n\n",
    "    for i in range(2, n + 1):\n",
    "        # Coeficientes para la relación de recurrencia de los polinomios de Legendre\n",
    "        a = (2 * i - 1) / i\n",
    "        b = (i - 1) / i\n",
    "\n",
    "        # Calcula el polinomio de Legendre de grado i usando la relación de recurrencia\n",
    "        legendre_polynomial = a * x * legendre_polynomials[-1] - b * legendre_polynomials[-2]\n",
    "\n",
    "        # Añade el polinomio de Legendre de grado i a la lista\n",
    "        legendre_polynomials.append(legendre_polynomial)\n",
    "\n",
    "    # Devuelve los polinomios de Legendre como un tensor de PyTorch\n",
    "    return torch.stack(legendre_polynomials, dim=1)"
   ]
  },
  {
   "cell_type": "markdown",
   "metadata": {},
   "source": [
    "Evaluate a 2-D Legendre series at points ( $\\mathrm{x}, \\mathrm{y}$ ).\n",
    "This function returns the values:\n",
    "$$\n",
    "p(x, y)=\\sum_{i, j} c_{i, j} * L_i(x) * L_j(y)\n",
    "$$"
   ]
  },
  {
   "cell_type": "code",
   "execution_count": null,
   "metadata": {},
   "outputs": [],
   "source": [
    "import torch\n",
    "\n",
    "def calculate_2d_legendre_polynomials(x1: torch.Tensor, x2: torch.Tensor, n: int) -> torch.Tensor:\n",
    "    \"\"\"\n",
    "    Calcula los primeros n polinomios de Legendre bidimensionales en los puntos especificados.\n",
    "\n",
    "    Entradas:\n",
    "    x1 (torch.Tensor): Un tensor de PyTorch que contiene los puntos x1 en los que se evaluarán los polinomios de Legendre.\n",
    "    x2 (torch.Tensor): Un tensor de PyTorch que contiene los puntos x2 en los que se evaluarán los polinomios de Legendre.\n",
    "    n (int): El grado del polinomio de Legendre más alto que se calculará.\n",
    "\n",
    "    Salida:\n",
    "    (torch.Tensor): Un tensor de PyTorch que contiene los valores de los primeros n polinomios de Legendre bidimensionales en los puntos especificados (x1, x2).\n",
    "    \"\"\"\n",
    "\n",
    "    # Calcula los polinomios de Legendre 1-D para x1 e x2\n",
    "    legendre_x1 = calculate_first_n_legendre_polynomials(x1, n)\n",
    "    legendre_x2 = calculate_first_n_legendre_polynomials(x2, n)\n",
    "\n",
    "    # Inicializa la lista para almacenar los polinomios de Legendre 2-D\n",
    "    legendre_polynomials_2d = []\n",
    "\n",
    "    # Calcula los polinomios de Legendre 2-D usando la fórmula dada\n",
    "    for i in range(n + 1):\n",
    "        for j in range(n + 1):\n",
    "            legendre_2d_ij = legendre_x1[:, i:i+1] * legendre_x2[:, j:j+1]\n",
    "            legendre_polynomials_2d.append(legendre_2d_ij)\n",
    "\n",
    "    # Concatena los polinomios de Legendre 2-D a lo largo de la dimensión 1\n",
    "    legendre_polynomials_2d = torch.cat(legendre_polynomials_2d, dim=1)\n",
    "\n",
    "    return legendre_polynomials_2d\n"
   ]
  },
  {
   "cell_type": "code",
   "execution_count": null,
   "metadata": {},
   "outputs": [],
   "source": []
  }
 ],
 "metadata": {
  "kernelspec": {
   "display_name": "ReScience-PINNs-env",
   "language": "python",
   "name": "python3"
  },
  "language_info": {
   "codemirror_mode": {
    "name": "ipython",
    "version": 3
   },
   "file_extension": ".py",
   "mimetype": "text/x-python",
   "name": "python",
   "nbconvert_exporter": "python",
   "pygments_lexer": "ipython3",
   "version": "3.12.3"
  }
 },
 "nbformat": 4,
 "nbformat_minor": 2
}
